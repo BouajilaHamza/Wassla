{
 "cells": [
  {
   "cell_type": "code",
   "execution_count": 37,
   "metadata": {},
   "outputs": [],
   "source": [
    "from requests import Request, Session\n",
    "from requests.exceptions import ConnectionError, Timeout, TooManyRedirects\n",
    "import json\n",
    "def GetLatest():\n",
    "  url = 'https://sandbox-api.coinmarketcap.com/v1/cryptocurrency/listings/latest'\n",
    "  parameters = {\n",
    "    'start':'1',\n",
    "    'limit':'5000',\n",
    "    'convert':'USD'\n",
    "  }\n",
    "  headers = {\n",
    "    'Accepts': 'application/json',\n",
    "    'X-CMC_PRO_API_KEY': 'c0fef76c-7d4e-43e1-bdfa-3b02bead65e0',\n",
    "  }\n",
    "\n",
    "  session = Session()\n",
    "  session.headers.update(headers)\n",
    "\n",
    "  try:\n",
    "    response = session.get(url, params=parameters)\n",
    "    data = json.loads(response.text)\n",
    "  except (ConnectionError, Timeout, TooManyRedirects) as e:\n",
    "    print(e)\n",
    "  return data"
   ]
  },
  {
   "cell_type": "code",
   "execution_count": 38,
   "metadata": {},
   "outputs": [],
   "source": [
    "def GetMap(id):\n",
    "  url = 'https://pro-api.coinmarketcap.com/v1/cryptocurrency/category'\n",
    "  parameters = {\n",
    "    'id':f'{id}',\n",
    "  }\n",
    "  headers = {\n",
    "    'Accepts': 'application/json',\n",
    "    'X-CMC_PRO_API_KEY': 'c0fef76c-7d4e-43e1-bdfa-3b02bead65e0',\n",
    "  }\n",
    "\n",
    "  session = Session()\n",
    "  session.headers.update(headers)\n",
    "\n",
    "  try:\n",
    "    response = session.get(url, params=parameters)\n",
    "    map = json.loads(response.text)\n",
    "  except (ConnectionError, Timeout, TooManyRedirects) as e:\n",
    "    print(e)\n",
    "  return map"
   ]
  },
  {
   "cell_type": "code",
   "execution_count": 39,
   "metadata": {},
   "outputs": [],
   "source": [
    "def GetCategories():\n",
    "  url = 'https://pro-api.coinmarketcap.com/v1/cryptocurrency/categories'\n",
    "  parameters = {}\n",
    "  headers = {\n",
    "    'Accepts': 'application/json',\n",
    "    'X-CMC_PRO_API_KEY': 'c0fef76c-7d4e-43e1-bdfa-3b02bead65e0',\n",
    "  }\n",
    "\n",
    "  session = Session()\n",
    "  session.headers.update(headers)\n",
    "\n",
    "  try:\n",
    "    response = session.get(url, params=parameters)\n",
    "    categories = json.loads(response.text)\n",
    "  except (ConnectionError, Timeout, TooManyRedirects) as e:\n",
    "    print(e)\n",
    "  return categories"
   ]
  },
  {
   "cell_type": "code",
   "execution_count": 36,
   "metadata": {},
   "outputs": [],
   "source": [
    "# from pyspark.sql import SparkSession\n",
    "# spark = SparkSession.builder.appName(\"SparkByExamples.com\").getOrCreate()\n",
    "# import datetime\n",
    "\n",
    "\n",
    "# def Streaming():\n",
    "#     DATA = []\n",
    "#     categories = GetCategories()\n",
    "#     Dict = {\n",
    "#         \"CategoryName\" :None,\"CoinName\" :None,\"NumMarketPairs\" :None,\"DateAdded\" :None,\"IsActive\" :None,\"CMCRank\" :None,\"PriceUSD\" :None,\n",
    "#         \"Volume24\" :None,\"PercentChange1h\" :None,\"PercentChange24h\" :None,\"PercentChange7d\" :None,\"MarketCap\" :None,\"LastUpdated\" :None,\"Time\":None\n",
    "#         }\n",
    "#     for i in range(len(categories['data'])):\n",
    "#         ID = categories['data'][i]['id']\n",
    "#         map = GetMap(ID)\n",
    "#         try:\n",
    "#             for j in range(len(map[\"data\"][\"coins\"])):\n",
    "#                 Dict[\"CategoryName\"] = categories['data'][j]['name']\n",
    "#                 Dict[\"CoinName\"] = map['data']['coins'][0]['name']\n",
    "#                 Dict[\"NumMarketPairs\"] = map['data']['coins'][0]['num_market_pairs']\n",
    "#                 Dict[\"DateAdded\"] = map['data']['coins'][0]['date_added']\n",
    "#                 Dict[\"IsActive\"] = map['data']['coins'][0]['is_active']\n",
    "#                 Dict[\"CMCRank\"] = map['data']['coins'][0]['cmc_rank']\n",
    "#                 Dict[\"PriceUSD\"] = map['data']['coins'][0][\"quote\"][\"USD\"]['price']\n",
    "#                 Dict[\"Volume24\"] = map['data']['coins'][0][\"quote\"][\"USD\"]['volume_24h']\n",
    "#                 Dict[\"PercentChange1h\"] = map['data']['coins'][0][\"quote\"][\"USD\"]['percent_change_1h']\n",
    "#                 Dict[\"PercentChange24h\"] = map['data']['coins'][0][\"quote\"][\"USD\"]['percent_change_24h']\n",
    "#                 Dict[\"PercentChange7d\"] =  map['data']['coins'][0][\"quote\"][\"USD\"]['percent_change_7d']\n",
    "#                 Dict[\"MarketCap\"] = map['data']['coins'][0][\"quote\"][\"USD\"]['market_cap']\n",
    "#                 Dict[\"LastUpdated\"] = map['data']['coins'][0][\"quote\"][\"USD\"]['last_updated']\n",
    "#                 Dict[\"Time\"] = str(datetime.datetime.now())\n",
    "#                 DATA.append(Dict)\n",
    "#                 df = spark.createDataFrame(DATA)\n",
    "#                 df.show()\n",
    "#         except Exception as e:\n",
    "#             print(e)\n",
    "#             continue  "
   ]
  },
  {
   "cell_type": "code",
   "execution_count": 45,
   "metadata": {},
   "outputs": [],
   "source": [
    "from pyspark.sql import SparkSession\n",
    "spark = SparkSession.builder.appName(\"SparkByExamples.com\").getOrCreate()\n",
    "import datetime\n",
    "import json\n",
    "df = spark.read.json(r'C:\\Users\\LENOVO\\Desktop\\Hamza Bouajila\\3IDSD SD\\Spark\\TP\\Projet\\WeatherForcast\\app\\data\\data.json')"
   ]
  },
  {
   "cell_type": "code",
   "execution_count": 46,
   "metadata": {},
   "outputs": [
    {
     "data": {
      "text/plain": [
       "25"
      ]
     },
     "execution_count": 46,
     "metadata": {},
     "output_type": "execute_result"
    }
   ],
   "source": [
    "df.groupby(\"CategoryName\").mean().groupby(\"CategoryName\").mean().count()"
   ]
  },
  {
   "cell_type": "code",
   "execution_count": 47,
   "metadata": {},
   "outputs": [
    {
     "name": "stdout",
     "output_type": "stream",
     "text": [
      "root\n",
      " |-- CMCRank: double (nullable = true)\n",
      " |-- CategoryName: string (nullable = true)\n",
      " |-- CoinName: string (nullable = true)\n",
      " |-- DateAdded: string (nullable = true)\n",
      " |-- IsActive: long (nullable = true)\n",
      " |-- LastUpdated: string (nullable = true)\n",
      " |-- MarketCap: double (nullable = true)\n",
      " |-- NumMarketPairs: long (nullable = true)\n",
      " |-- PercentChange1h: double (nullable = true)\n",
      " |-- PercentChange24h: double (nullable = true)\n",
      " |-- PercentChange7d: double (nullable = true)\n",
      " |-- PriceUSD: double (nullable = true)\n",
      " |-- RealTime: string (nullable = true)\n",
      " |-- Volume24: double (nullable = true)\n",
      "\n"
     ]
    }
   ],
   "source": [
    "df.printSchema()"
   ]
  },
  {
   "cell_type": "code",
   "execution_count": 48,
   "metadata": {},
   "outputs": [],
   "source": [
    "import matplotlib.pyplot as plt\n",
    "import seaborn as sns\n",
    "import pandas as pd\n",
    "import numpy as np\n",
    "import plotly as py"
   ]
  },
  {
   "cell_type": "code",
   "execution_count": 49,
   "metadata": {},
   "outputs": [
    {
     "name": "stdout",
     "output_type": "stream",
     "text": [
      "+-------+--------------------+--------+--------------------+--------+--------------------+--------------------+--------------+---------------+----------------+---------------+------------------+--------------------+--------------------+\n",
      "|CMCRank|        CategoryName|CoinName|           DateAdded|IsActive|         LastUpdated|           MarketCap|NumMarketPairs|PercentChange1h|PercentChange24h|PercentChange7d|          PriceUSD|            RealTime|            Volume24|\n",
      "+-------+--------------------+--------+--------------------+--------+--------------------+--------------------+--------------+---------------+----------------+---------------+------------------+--------------------+--------------------+\n",
      "|   31.0|eGirl Capital Por...|Lido DAO|2020-12-15T00:00:...|       1|2023-11-23T13:33:...| 2.283347148078477E9|           263|    -1.09020988|      4.33277997|     7.83834381| 2.565003224345331|2023-11-23 14:34:...|1.0934260386819059E8|\n",
      "|   31.0|Standard Crypto P...|Lido DAO|2020-12-15T00:00:...|       1|2023-11-23T13:33:...| 2.283347148078477E9|           263|    -1.09020988|      4.33277997|     7.83834381| 2.565003224345331|2023-11-23 14:34:...|1.0934260386819059E8|\n",
      "|   31.0|        X1 Ecosystem|Lido DAO|2020-12-15T00:00:...|       1|2023-11-23T13:33:...| 2.283347148078477E9|           263|    -1.09020988|      4.33277997|     7.83834381| 2.565003224345331|2023-11-23 14:34:...|1.0934260386819059E8|\n",
      "|   31.0|              BRC-20|Lido DAO|2020-12-15T00:00:...|       1|2023-11-23T13:33:...| 2.283347148078477E9|           263|    -1.09020988|      4.33277997|     7.83834381| 2.565003224345331|2023-11-23 14:34:...|1.0934260386819059E8|\n",
      "|   31.0|  Modular Blockchain|Lido DAO|2020-12-15T00:00:...|       1|2023-11-23T13:33:...| 2.283347148078477E9|           263|    -1.09020988|      4.33277997|     7.83834381| 2.565003224345331|2023-11-23 14:34:...|1.0934260386819059E8|\n",
      "|   31.0|   Toncoin Ecosystem|Lido DAO|2020-12-15T00:00:...|       1|2023-11-23T13:33:...| 2.283347148078477E9|           263|    -1.09020988|      4.33277997|     7.83834381| 2.565003224345331|2023-11-23 14:34:...|1.0934260386819059E8|\n",
      "|   31.0|         Friend Tech|Lido DAO|2020-12-15T00:00:...|       1|2023-11-23T13:33:...| 2.283347148078477E9|           263|    -1.09020988|      4.33277997|     7.83834381| 2.565003224345331|2023-11-23 14:34:...|1.0934260386819059E8|\n",
      "|   31.0|       SEI Ecosystem|Lido DAO|2020-12-15T00:00:...|       1|2023-11-23T13:33:...| 2.283347148078477E9|           263|    -1.09020988|      4.33277997|     7.83834381| 2.565003224345331|2023-11-23 14:34:...|1.0934260386819059E8|\n",
      "|   31.0|       Reddit Points|Lido DAO|2020-12-15T00:00:...|       1|2023-11-23T13:33:...| 2.283347148078477E9|           263|    -1.09020988|      4.33277997|     7.83834381| 2.565003224345331|2023-11-23 14:34:...|1.0934260386819059E8|\n",
      "|   14.0|eGirl Capital Por...| Polygon|2019-04-28T00:00:...|       1|2023-11-23T13:33:...|  7.17599742981845E9|          1091|    -0.33874029|      1.83472198|   -13.88836109|0.7736607141033305|2023-11-23 14:34:...|3.8543824245549893E8|\n",
      "|   14.0|Standard Crypto P...| Polygon|2019-04-28T00:00:...|       1|2023-11-23T13:33:...|  7.17599742981845E9|          1091|    -0.33874029|      1.83472198|   -13.88836109|0.7736607141033305|2023-11-23 14:34:...|3.8543824245549893E8|\n",
      "|   14.0|        X1 Ecosystem| Polygon|2019-04-28T00:00:...|       1|2023-11-23T13:33:...|  7.17599742981845E9|          1091|    -0.33874029|      1.83472198|   -13.88836109|0.7736607141033305|2023-11-23 14:34:...|3.8543824245549893E8|\n",
      "|   14.0|              BRC-20| Polygon|2019-04-28T00:00:...|       1|2023-11-23T13:33:...|  7.17599742981845E9|          1091|    -0.33874029|      1.83472198|   -13.88836109|0.7736607141033305|2023-11-23 14:34:...|3.8543824245549893E8|\n",
      "|   14.0|  Modular Blockchain| Polygon|2019-04-28T00:00:...|       1|2023-11-23T13:33:...|  7.17599742981845E9|          1091|    -0.33874029|      1.83472198|   -13.88836109|0.7736607141033305|2023-11-23 14:34:...|3.8543824245549893E8|\n",
      "|   14.0|   Toncoin Ecosystem| Polygon|2019-04-28T00:00:...|       1|2023-11-23T13:33:...|  7.17599742981845E9|          1091|    -0.33874029|      1.83472198|   -13.88836109|0.7736607141033305|2023-11-23 14:34:...|3.8543824245549893E8|\n",
      "|   14.0|         Friend Tech| Polygon|2019-04-28T00:00:...|       1|2023-11-23T13:33:...|  7.17599742981845E9|          1091|    -0.33874029|      1.83472198|   -13.88836109|0.7736607141033305|2023-11-23 14:34:...|3.8543824245549893E8|\n",
      "|   14.0|       SEI Ecosystem| Polygon|2019-04-28T00:00:...|       1|2023-11-23T13:33:...|  7.17599742981845E9|          1091|    -0.33874029|      1.83472198|   -13.88836109|0.7736607141033305|2023-11-23 14:34:...|3.8543824245549893E8|\n",
      "|   14.0|       Reddit Points| Polygon|2019-04-28T00:00:...|       1|2023-11-23T13:33:...|  7.17599742981845E9|          1091|    -0.33874029|      1.83472198|   -13.88836109|0.7736607141033305|2023-11-23 14:34:...|3.8543824245549893E8|\n",
      "|   23.0|eGirl Capital Por...|     OKB|2019-04-30T00:00:...|       1|2023-11-23T13:33:...|3.5078398758061795E9|           110|    -0.42927043|      1.27150909|    -0.65465854| 58.46399793010299|2023-11-23 14:34:...| 1.300874543336473E7|\n",
      "|   94.0|eGirl Capital Por...|    ORDI|2023-05-08T05:51:...|       1|2023-11-23T13:33:...| 4.676365038517149E8|            77|    -0.66334188|      4.27970849|   -11.92231264| 22.26840494531976|2023-11-23 14:35:...|   1.9266849746118E8|\n",
      "+-------+--------------------+--------+--------------------+--------+--------------------+--------------------+--------------+---------------+----------------+---------------+------------------+--------------------+--------------------+\n",
      "only showing top 20 rows\n",
      "\n"
     ]
    }
   ],
   "source": [
    "df.show()"
   ]
  },
  {
   "cell_type": "code",
   "execution_count": 65,
   "metadata": {},
   "outputs": [
    {
     "data": {
      "text/plain": [
       "20"
      ]
     },
     "execution_count": 65,
     "metadata": {},
     "output_type": "execute_result"
    }
   ],
   "source": [
    "df.groupby([\"CategoryName\"]).mean().sort(\"avg(PriceUSD)\",ascending=False)"
   ]
  },
  {
   "cell_type": "code",
   "execution_count": null,
   "metadata": {},
   "outputs": [],
   "source": []
  },
  {
   "cell_type": "code",
   "execution_count": null,
   "metadata": {},
   "outputs": [],
   "source": []
  },
  {
   "cell_type": "code",
   "execution_count": null,
   "metadata": {},
   "outputs": [],
   "source": []
  },
  {
   "cell_type": "code",
   "execution_count": null,
   "metadata": {},
   "outputs": [],
   "source": []
  },
  {
   "cell_type": "code",
   "execution_count": null,
   "metadata": {},
   "outputs": [],
   "source": []
  },
  {
   "cell_type": "code",
   "execution_count": null,
   "metadata": {},
   "outputs": [],
   "source": [
    "\n"
   ]
  },
  {
   "cell_type": "code",
   "execution_count": null,
   "metadata": {},
   "outputs": [],
   "source": []
  },
  {
   "cell_type": "code",
   "execution_count": null,
   "metadata": {},
   "outputs": [],
   "source": []
  }
 ],
 "metadata": {
  "kernelspec": {
   "display_name": "spark",
   "language": "python",
   "name": "python3"
  },
  "language_info": {
   "codemirror_mode": {
    "name": "ipython",
    "version": 3
   },
   "file_extension": ".py",
   "mimetype": "text/x-python",
   "name": "python",
   "nbconvert_exporter": "python",
   "pygments_lexer": "ipython3",
   "version": "3.11.6"
  }
 },
 "nbformat": 4,
 "nbformat_minor": 2
}
